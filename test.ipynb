{
 "cells": [
  {
   "cell_type": "code",
   "execution_count": 1,
   "id": "cda9f619",
   "metadata": {},
   "outputs": [],
   "source": [
    "import pandas"
   ]
  },
  {
   "cell_type": "code",
   "execution_count": 4,
   "id": "933a4ce3",
   "metadata": {},
   "outputs": [
    {
     "data": {
      "text/plain": [
       "(74, 70)"
      ]
     },
     "execution_count": 4,
     "metadata": {},
     "output_type": "execute_result"
    }
   ],
   "source": [
    "import pandas as pd\n",
    "import os\n",
    "\n",
    "df = pd.read_excel('C:/Users/HP/Downloads/EV업데이트 0729 1846.xlsx')\n",
    "\n",
    "except_list = ['승인불가', '신청포기', '지원취소']\n",
    "\n",
    "df = df[~df['신청단계'].isin(except_list)]\n",
    "df = df[df['신청일자'] == '2025-07-29']\n",
    "\n",
    "df.shape\n"
   ]
  },
  {
   "cell_type": "code",
   "execution_count": 5,
   "id": "9cd053a5",
   "metadata": {},
   "outputs": [
    {
     "data": {
      "text/plain": [
       "(121, 70)"
      ]
     },
     "execution_count": 5,
     "metadata": {},
     "output_type": "execute_result"
    }
   ],
   "source": [
    "df = pd.read_excel('C:/Users/HP/Downloads/EV업데이트 0728 1807.xlsx')\n",
    "\n",
    "except_list = ['승인불가', '신청포기', '지원취소']\n",
    "\n",
    "df = df[~df['신청단계'].isin(except_list)]\n",
    "df = df[df['신청일자'] == '2025-07-28']\n",
    "\n",
    "df.shape"
   ]
  },
  {
   "cell_type": "code",
   "execution_count": 12,
   "id": "6787b4c9",
   "metadata": {},
   "outputs": [
    {
     "data": {
      "text/plain": [
       "(130, 70)"
      ]
     },
     "execution_count": 12,
     "metadata": {},
     "output_type": "execute_result"
    }
   ],
   "source": [
    "df = pd.read_excel('C:/Users/HP/Downloads/OneDrive_2025-07-30/EV업데이트 0714 1800.xls', header=2)\n",
    "\n",
    "except_list = ['승인불가', '신청포기', '지원취소']\n",
    "\n",
    "df = df[~df['신청단계'].isin(except_list)]\n",
    "df = df[df['신청일자'] == '2025-07-14']\n",
    "\n",
    "df.shape"
   ]
  },
  {
   "cell_type": "code",
   "execution_count": null,
   "id": "6861ab72",
   "metadata": {},
   "outputs": [],
   "source": [
    "folder_path = 'C:/Users/HP/Downloads'\n",
    "except_list = ['승인불가', '신청포기', '지원취소']\n",
    "\n",
    "\n",
    "날짜_개수_리스트 = []\n",
    "\n",
    "for file in os.listdir(folder_path):\n",
    "    if file.endswith('.xlsx'):\n",
    "        df = pd.read_excel(os.path.join(folder_path, file))\n",
    "        df = df[~df['신청단계'].isin(except_list)]\n",
    "\n",
    "    elif file.endswith('.xls'):\n",
    "        df = pd.read_excel(os.path.join(folder_path, file), header=2)\n",
    "        df = df[~df['신청단계'].isin(except_list)]\n",
    "        \n",
    "    # 파일명에서 '0724' 부분을 추출하여 '2025-07-24' 형식으로 변환 후 필터링\n",
    "    date_str = file.split()[1]  # '0724' 추출\n",
    "    신청일자 = f\"2025-07-{date_str[2:]}\"  # '2025-07-24'로 변환\n",
    "    df = df[df['신청일자'] == 신청일자]\n",
    "    \n",
    "    개수 = df.shape[0]\n",
    "    날짜_개수_리스트.append({'날짜': 신청일자, '개수': 개수})\n",
    "        \n",
    "\n",
    "# 리스트를 데이터프레임으로 변환\n",
    "result_df = pd.DataFrame(날짜_개수_리스트)\n",
    "\n",
    "# 엑셀로 저장\n",
    "result_df.to_excel('신청일자별_개수_집계.xlsx', index=False)\n",
    "\n"
   ]
  },
  {
   "cell_type": "code",
   "execution_count": null,
   "id": "a73ad59b",
   "metadata": {},
   "outputs": [],
   "source": [
    "result = pd.read_excel('신청일자별_개수_집계.xlsx')\n",
    "\n",
    "folder_path = 'C:/Users/HP/Downloads/11'\n",
    "except_list = ['승인불가', '신청포기', '지원취소']\n",
    "\n",
    "날짜_개수_리스트 = []\n",
    "\n",
    "for file in os.listdir(folder_path):\n",
    "    if file.endswith('.xlsx'):\n",
    "        df = pd.read_excel(os.path.join(folder_path, file))\n",
    "        df = df[~df['신청단계'].isin(except_list)]\n",
    "\n",
    "    elif file.endswith('.xls'):\n",
    "        df = pd.read_excel(os.path.join(folder_path, file), header=2)\n",
    "        df = df[~df['신청단계'].isin(except_list)]\n",
    "        \n",
    "    # '취소(포기)\\n일자'가 기준날짜인 경우\n",
    "    date_str = file.split()[1]  # 예: '0724' 또는 '0624' 추출\n",
    "    month = date_str[:2]\n",
    "    day = date_str[2:]\n",
    "    기준날짜 = f\"2025-{month}-{day}\"\n",
    "    기준날짜 = pd.to_datetime(기준날짜).strftime('%Y-%m-%d')  # 날짜 포맷 보정\n",
    "    df = df[df['신청일자'] == 기준날짜]\n",
    "    \n",
    "    개수 = df.shape[0]\n",
    "    날짜_개수_리스트.append({'날짜': 기준날짜, '개수': 개수})\n",
    "\n",
    "# 새로 구한 날짜별 개수 데이터프레임 생성\n",
    "new_df = pd.DataFrame(날짜_개수_리스트)\n",
    "\n",
    "# 기존 result와 합치기 (중복 날짜는 모두 남김)\n",
    "result = pd.concat([result, new_df], ignore_index=True)\n",
    "result.to_excel('신청일자별_개수_집계.xlsx', index=False)"
   ]
  },
  {
   "cell_type": "code",
   "execution_count": null,
   "id": "53def975",
   "metadata": {},
   "outputs": [],
   "source": [
    "\n",
    "folder_path = 'C:/Users/HP/Downloads/11'\n",
    "except_list = ['승인불가', '신청포기', '지원취소']\n",
    "\n",
    "날짜_개수_리스트 = []\n",
    "\n",
    "for file in os.listdir(folder_path):\n",
    "    if file.endswith('.xlsx'):\n",
    "        df = pd.read_excel(os.path.join(folder_path, file))\n",
    "        df = df[~df['신청단계'].isin(except_list)]\n",
    "\n",
    "    elif file.endswith('.xls'):\n",
    "        df = pd.read_excel(os.path.join(folder_path, file), header=2)\n",
    "        df = df[~df['신청단계'].isin(except_list)]\n",
    "        \n",
    "    # '취소(포기)\\n일자'가 기준날짜인 경우\n",
    "    date_str = file.split()[1]  # 예: '0724' 또는 '0624' 추출\n",
    "    month = date_str[:2]\n",
    "    day = date_str[2:]\n",
    "    기준날짜 = f\"2025-{month}-{day}\"\n",
    "    기준날짜 = pd.to_datetime(기준날짜).strftime('%Y-%m-%d')  # 날짜 포맷 보정\n",
    "    df = df[df['신청일자'] == 기준날짜]\n",
    "    \n",
    "    개수 = df.shape[0]\n",
    "    날짜_개수_리스트.append({'날짜': 기준날짜, '개수': 개수})\n",
    "\n",
    "# 새로 구한 날짜별 개수 데이터프레임 생성\n",
    "new_df = pd.DataFrame(날짜_개수_리스트)\n",
    "\n",
    "# 기존 result와 합치기 (중복 날짜는 모두 남김)\n",
    "result = pd.concat([result, new_df], ignore_index=True)\n",
    "result.to_excel('신청일자별_개수_집계.xlsx', index=False)"
   ]
  },
  {
   "cell_type": "code",
   "execution_count": 50,
   "id": "8d11a40f",
   "metadata": {},
   "outputs": [],
   "source": [
    "result = pd.read_excel('신청일자별_개수_집계.xlsx')\n",
    "folder_path = 'C:/Users/HP/Downloads/33'\n",
    "except_list = ['승인불가', '신청포기', '지원취소']\n",
    "\n",
    "날짜_개수_리스트 = []\n",
    "\n",
    "for file in os.listdir(folder_path):\n",
    "    if file.endswith('.xlsx'):\n",
    "        df = pd.read_excel(os.path.join(folder_path, file))\n",
    "        df = df[~df['신청단계'].isin(except_list)]\n",
    "\n",
    "    elif file.endswith('.xls'):\n",
    "        df = pd.read_excel(os.path.join(folder_path, file), header=2)\n",
    "        df = df[~df['신청단계'].isin(except_list)]\n",
    "        \n",
    "    # '취소(포기)\\n일자'가 기준날짜인 경우\n",
    "    date_str = file.split()[1]  # 예: '0724' 또는 '0624' 추출\n",
    "    month = date_str[:2]\n",
    "    day = date_str[2:]\n",
    "    기준날짜 = f\"2025-{month}-{day}\"\n",
    "    기준날짜 = pd.to_datetime(기준날짜).strftime('%Y-%m-%d')  # 날짜 포맷 보정\n",
    "    df = df[df['신청일자'] == 기준날짜]\n",
    "    \n",
    "    개수 = df.shape[0]\n",
    "    날짜_개수_리스트.append({'날짜': 기준날짜, '개수': 개수})\n",
    "\n",
    "# 새로 구한 날짜별 개수 데이터프레임 생성\n",
    "new_df = pd.DataFrame(날짜_개수_리스트)\n",
    "\n",
    "# 기존 result와 합치기 (중복 날짜는 모두 남김)\n",
    "result = pd.concat([result, new_df], ignore_index=True)\n",
    "result.to_excel('신청일자별_개수_집계.xlsx', index=False)"
   ]
  },
  {
   "cell_type": "code",
   "execution_count": 53,
   "id": "ef704741",
   "metadata": {},
   "outputs": [],
   "source": [
    "folder_path = 'C:/Users/HP/Downloads/22'\n",
    "except_list = ['승인불가', '신청포기', '지원취소']\n",
    "\n",
    "기준날짜_취소_개수_리스트 = []\n",
    "\n",
    "for file in os.listdir(folder_path):\n",
    "    if file.endswith('.xlsx'):\n",
    "        df = pd.read_excel(os.path.join(folder_path, file))\n",
    "        df = df[df['신청단계'].isin(except_list)]\n",
    "    elif file.endswith('.xls'):\n",
    "        df = pd.read_excel(os.path.join(folder_path, file), header=2)\n",
    "        df = df[df['신청단계'].isin(except_list)]\n",
    "\n",
    "    # '취소(포기)\\n일자'가 기준날짜인 경우\n",
    "    date_str = file.split()[1]  # 예: '0724' 또는 '0624' 추출\n",
    "    month = date_str[:2]\n",
    "    day = date_str[2:]\n",
    "    기준날짜 = f\"2025-{month}-{day}\"\n",
    "    기준날짜 = pd.to_datetime(기준날짜).strftime('%Y-%m-%d')  # 날짜 포맷 보정\n",
    "    df = df[df['취소(포기)\\n일자'] == 기준날짜]\n",
    "\n",
    "    # 각 신청단계별 개수 계산\n",
    "    승인불가_개수 = df[df['신청단계'] == '승인불가'].shape[0]\n",
    "    신청포기_개수 = df[df['신청단계'] == '신청포기'].shape[0]\n",
    "    지원취소_개수 = df[df['신청단계'] == '지원취소'].shape[0]\n",
    "    \n",
    "    # 전체 개수 (세 개의 합계)\n",
    "    전체_개수 = 승인불가_개수 + 신청포기_개수 + 지원취소_개수\n",
    "    \n",
    "    기준날짜_취소_개수_리스트.append({\n",
    "        '날짜': 기준날짜, \n",
    "        '개수': 전체_개수,\n",
    "        '승인불가': 승인불가_개수,\n",
    "        '신청포기': 신청포기_개수,\n",
    "        '지원취소': 지원취소_개수\n",
    "    })\n",
    "\n",
    "new_df = pd.DataFrame(기준날짜_취소_개수_리스트)\n",
    "new_df.to_excel('기준날짜_취소_개수_집계.xlsx', index=False)"
   ]
  },
  {
   "cell_type": "code",
   "execution_count": 54,
   "id": "e6bb90be",
   "metadata": {},
   "outputs": [],
   "source": [
    "df = pd.read_excel('Greet_Subsidy_2Q.xlsx', sheet_name='지급신청', header=3)\n",
    "\n",
    "# 배분일별 개수 집계 및 데이터프레임화\n",
    "배분일_개수 = df['배분일'].value_counts().reset_index()\n",
    "배분일_개수.columns = ['날짜', '개수']\n",
    "\n",
    "# 날짜 오름차순 정렬\n",
    "배분일_개수 = 배분일_개수.sort_values('날짜').reset_index(drop=True)\n",
    "\n",
    "# 엑셀로 저장\n",
    "배분일_개수.to_excel('배분일별_개수_집계.xlsx', index=False)"
   ]
  },
  {
   "cell_type": "code",
   "execution_count": 55,
   "id": "cbeb1c36",
   "metadata": {},
   "outputs": [],
   "source": [
    "df = pd.read_excel('Greet_Subsidy_2Q.xlsx', sheet_name='지급신청', header=3)\n",
    "\n",
    "# 배분일별 개수 집계 및 데이터프레임화\n",
    "배분일_개수 = df['지급\\n신청일'].value_counts().reset_index()\n",
    "배분일_개수.columns = ['날짜', '개수']\n",
    "\n",
    "# 날짜 오름차순 정렬\n",
    "배분일_개수 = 배분일_개수.sort_values('날짜').reset_index(drop=True)\n",
    "\n",
    "# 엑셀로 저장\n",
    "배분일_개수.to_excel('지급일별_개수_집계.xlsx', index=False)"
   ]
  },
  {
   "cell_type": "code",
   "execution_count": 56,
   "id": "f5bb6c11",
   "metadata": {},
   "outputs": [
    {
     "name": "stderr",
     "output_type": "stream",
     "text": [
      "C:\\Users\\Public\\Documents\\ESTsoft\\CreatorTemp\\ipykernel_7948\\3672846104.py:8: SettingWithCopyWarning: \n",
      "A value is trying to be set on a copy of a slice from a DataFrame.\n",
      "Try using .loc[row_indexer,col_indexer] = value instead\n",
      "\n",
      "See the caveats in the documentation: https://pandas.pydata.org/pandas-docs/stable/user_guide/indexing.html#returning-a-view-versus-a-copy\n",
      "  배분일_rn['배분일'] = pd.to_datetime(배분일_rn['배분일'], errors='coerce').dt.strftime('%Y-%m-%d')\n",
      "C:\\Users\\Public\\Documents\\ESTsoft\\CreatorTemp\\ipykernel_7948\\3672846104.py:9: SettingWithCopyWarning: \n",
      "A value is trying to be set on a copy of a slice from a DataFrame.\n",
      "Try using .loc[row_indexer,col_indexer] = value instead\n",
      "\n",
      "See the caveats in the documentation: https://pandas.pydata.org/pandas-docs/stable/user_guide/indexing.html#returning-a-view-versus-a-copy\n",
      "  지급신청일_rn['지급신청일자'] = pd.to_datetime(지급신청일_rn['지급신청일자'], errors='coerce').dt.strftime('%Y-%m-%d')\n"
     ]
    }
   ],
   "source": [
    "df = pd.read_excel('Greet_Subsidy_2Q.xlsx', sheet_name='지급신청', header=3)\n",
    "df_ev = pd.read_excel('EV_Q2.xlsx')\n",
    "\n",
    "배분일_rn = df[['배분일', 'RN']]\n",
    "지급신청일_rn = df_ev[['지급신청일자', '제조수입사\\n관리번호']]\n",
    "\n",
    "# 날짜 컬럼을 datetime으로 변환 후 날짜만 추출\n",
    "배분일_rn['배분일'] = pd.to_datetime(배분일_rn['배분일'], errors='coerce').dt.strftime('%Y-%m-%d')\n",
    "지급신청일_rn['지급신청일자'] = pd.to_datetime(지급신청일_rn['지급신청일자'], errors='coerce').dt.strftime('%Y-%m-%d')\n",
    "\n",
    "# 'RN'과 '제조수입사\\n관리번호'를 기준으로 left join\n",
    "merged_df = 배분일_rn.merge(\n",
    "    지급신청일_rn, \n",
    "    left_on='RN', \n",
    "    right_on='제조수입사\\n관리번호', \n",
    "    how='left'\n",
    ")\n",
    "\n",
    "# 결과 컬럼만 남기기\n",
    "result_df = merged_df[['RN', '배분일', '지급신청일자']]\n",
    "\n",
    "result_df.to_excel('지급_집계.xlsx', index=False)\n"
   ]
  },
  {
   "cell_type": "code",
   "execution_count": 57,
   "id": "b489c85f",
   "metadata": {},
   "outputs": [],
   "source": [
    "df = pd.read_excel('지급_집계.xlsx')\n",
    "\n",
    "# 배분일과 지급신청일자가 다른(미신청) 데이터만 추출\n",
    "미신청_df = df[df['배분일'] != df['지급신청일자']]\n",
    "\n",
    "# '배분일'별 미신청 개수 집계\n",
    "미신청_집계 = 미신청_df['배분일'].value_counts().reset_index()\n",
    "미신청_집계.columns = ['날짜', '미신청']\n",
    "\n",
    "미신청_집계 = 미신청_집계.sort_values('날짜').reset_index(drop=True)\n",
    "미신청_집계.to_excel('미신청_집계.xlsx', index=False)"
   ]
  }
 ],
 "metadata": {
  "kernelspec": {
   "display_name": "base",
   "language": "python",
   "name": "python3"
  },
  "language_info": {
   "codemirror_mode": {
    "name": "ipython",
    "version": 3
   },
   "file_extension": ".py",
   "mimetype": "text/x-python",
   "name": "python",
   "nbconvert_exporter": "python",
   "pygments_lexer": "ipython3",
   "version": "3.11.7"
  }
 },
 "nbformat": 4,
 "nbformat_minor": 5
}
