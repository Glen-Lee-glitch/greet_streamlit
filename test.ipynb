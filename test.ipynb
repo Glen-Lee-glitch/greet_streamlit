{
 "cells": [
  {
   "cell_type": "code",
   "execution_count": 3,
   "id": "cda9f619",
   "metadata": {},
   "outputs": [],
   "source": [
    "import pandas as pd\n",
    "import os"
   ]
  },
  {
   "cell_type": "code",
   "execution_count": 4,
   "id": "933a4ce3",
   "metadata": {},
   "outputs": [
    {
     "data": {
      "text/plain": [
       "(74, 70)"
      ]
     },
     "execution_count": 4,
     "metadata": {},
     "output_type": "execute_result"
    }
   ],
   "source": [
    "import pandas as pd\n",
    "import os\n",
    "\n",
    "df = pd.read_excel('C:/Users/HP/Downloads/EV업데이트 0729 1846.xlsx')\n",
    "\n",
    "except_list = ['승인불가', '신청포기', '지원취소']\n",
    "\n",
    "df = df[~df['신청단계'].isin(except_list)]\n",
    "df = df[df['신청일자'] == '2025-07-29']\n",
    "\n",
    "df.shape\n"
   ]
  },
  {
   "cell_type": "code",
   "execution_count": null,
   "id": "39695a59",
   "metadata": {},
   "outputs": [],
   "source": [
    "df = pd.read_excel()"
   ]
  },
  {
   "cell_type": "code",
   "execution_count": 7,
   "id": "9cd053a5",
   "metadata": {},
   "outputs": [
    {
     "data": {
      "text/plain": [
       "(81, 70)"
      ]
     },
     "execution_count": 7,
     "metadata": {},
     "output_type": "execute_result"
    }
   ],
   "source": [
    "df = pd.read_excel('C:/Users/HP/Downloads/EV업데이트 0730 1803.xlsx')\n",
    "\n",
    "except_list = ['승인불가', '신청포기', '지원취소']\n",
    "\n",
    "df = df[~df['신청단계'].isin(except_list)]\n",
    "df = df[df['신청일자'] == '2025-07-30']\n",
    "\n",
    "df.shape"
   ]
  },
  {
   "cell_type": "code",
   "execution_count": 6,
   "id": "7a83dd34",
   "metadata": {},
   "outputs": [
    {
     "data": {
      "text/plain": [
       "신청단계\n",
       "신청포기    4\n",
       "지원취소    3\n",
       "Name: count, dtype: int64"
      ]
     },
     "execution_count": 6,
     "metadata": {},
     "output_type": "execute_result"
    }
   ],
   "source": [
    "df = pd.read_excel('C:/Users/HP/Downloads/EV업데이트 0730 1803.xlsx')\n",
    "\n",
    "except_list = ['승인불가', '신청포기', '지원취소']\n",
    "\n",
    "df = df[df['신청단계'].isin(except_list)]\n",
    "df = df[df['취소(포기)\\n일자'] == '2025-07-30']\n",
    "\n",
    "df['신청단계'].value_counts()"
   ]
  },
  {
   "cell_type": "code",
   "execution_count": 5,
   "id": "99495d85",
   "metadata": {},
   "outputs": [
    {
     "data": {
      "text/plain": [
       "(196, 70)"
      ]
     },
     "execution_count": 5,
     "metadata": {},
     "output_type": "execute_result"
    }
   ],
   "source": [
    "df = pd.read_excel('C:/Users/HP/Downloads/EV업데이트 0730 1803.xlsx')\n",
    "\n",
    "except_list = ['승인불가', '신청포기', '지원취소']\n",
    "\n",
    "df = df[pd.to_datetime(df['지급신청일자'], errors='coerce').dt.strftime('%Y-%m-%d') == '2025-07-30']\n",
    "\n",
    "df.shape"
   ]
  },
  {
   "cell_type": "code",
   "execution_count": 3,
   "id": "274e91ad",
   "metadata": {},
   "outputs": [
    {
     "data": {
      "text/plain": [
       "(190, 41)"
      ]
     },
     "execution_count": 3,
     "metadata": {},
     "output_type": "execute_result"
    }
   ],
   "source": [
    "df = pd.read_excel('Greet_Subsidy.xlsx', sheet_name='지급신청', header=3)\n",
    "\n",
    "df = df[df['배분일'] == '2025-07-30']\n",
    "\n",
    "df.shape"
   ]
  },
  {
   "cell_type": "code",
   "execution_count": 12,
   "id": "6787b4c9",
   "metadata": {},
   "outputs": [
    {
     "data": {
      "text/plain": [
       "(130, 70)"
      ]
     },
     "execution_count": 12,
     "metadata": {},
     "output_type": "execute_result"
    }
   ],
   "source": [
    "df = pd.read_excel('C:/Users/HP/Downloads/OneDrive_2025-07-30/EV업데이트 0714 1800.xls', header=2)\n",
    "\n",
    "except_list = ['승인불가', '신청포기', '지원취소']\n",
    "\n",
    "df = df[~df['신청단계'].isin(except_list)]\n",
    "df = df[df['신청일자'] == '2025-07-14']\n",
    "\n",
    "df.shape"
   ]
  },
  {
   "cell_type": "code",
   "execution_count": null,
   "id": "6861ab72",
   "metadata": {},
   "outputs": [
    {
     "ename": "KeyError",
     "evalue": "'신청단계'",
     "output_type": "error",
     "traceback": [
      "\u001b[1;31m---------------------------------------------------------------------------\u001b[0m",
      "\u001b[1;31mKeyError\u001b[0m                                  Traceback (most recent call last)",
      "File \u001b[1;32mc:\\Users\\HP\\anaconda3\\Lib\\site-packages\\pandas\\core\\indexes\\base.py:3791\u001b[0m, in \u001b[0;36mIndex.get_loc\u001b[1;34m(self, key)\u001b[0m\n\u001b[0;32m   3790\u001b[0m \u001b[38;5;28;01mtry\u001b[39;00m:\n\u001b[1;32m-> 3791\u001b[0m     \u001b[38;5;28;01mreturn\u001b[39;00m \u001b[38;5;28mself\u001b[39m\u001b[38;5;241m.\u001b[39m_engine\u001b[38;5;241m.\u001b[39mget_loc(casted_key)\n\u001b[0;32m   3792\u001b[0m \u001b[38;5;28;01mexcept\u001b[39;00m \u001b[38;5;167;01mKeyError\u001b[39;00m \u001b[38;5;28;01mas\u001b[39;00m err:\n",
      "File \u001b[1;32mindex.pyx:152\u001b[0m, in \u001b[0;36mpandas._libs.index.IndexEngine.get_loc\u001b[1;34m()\u001b[0m\n",
      "File \u001b[1;32mindex.pyx:181\u001b[0m, in \u001b[0;36mpandas._libs.index.IndexEngine.get_loc\u001b[1;34m()\u001b[0m\n",
      "File \u001b[1;32mpandas\\_libs\\hashtable_class_helper.pxi:7080\u001b[0m, in \u001b[0;36mpandas._libs.hashtable.PyObjectHashTable.get_item\u001b[1;34m()\u001b[0m\n",
      "File \u001b[1;32mpandas\\_libs\\hashtable_class_helper.pxi:7088\u001b[0m, in \u001b[0;36mpandas._libs.hashtable.PyObjectHashTable.get_item\u001b[1;34m()\u001b[0m\n",
      "\u001b[1;31mKeyError\u001b[0m: '신청단계'",
      "\nThe above exception was the direct cause of the following exception:\n",
      "\u001b[1;31mKeyError\u001b[0m                                  Traceback (most recent call last)",
      "Cell \u001b[1;32mIn[5], line 14\u001b[0m\n\u001b[0;32m     12\u001b[0m \u001b[38;5;28;01melif\u001b[39;00m file\u001b[38;5;241m.\u001b[39mendswith(\u001b[38;5;124m'\u001b[39m\u001b[38;5;124m.xls\u001b[39m\u001b[38;5;124m'\u001b[39m):\n\u001b[0;32m     13\u001b[0m     df \u001b[38;5;241m=\u001b[39m pd\u001b[38;5;241m.\u001b[39mread_excel(os\u001b[38;5;241m.\u001b[39mpath\u001b[38;5;241m.\u001b[39mjoin(folder_path, file), header\u001b[38;5;241m=\u001b[39m\u001b[38;5;241m2\u001b[39m)\n\u001b[1;32m---> 14\u001b[0m     df \u001b[38;5;241m=\u001b[39m df[\u001b[38;5;241m~\u001b[39mdf[\u001b[38;5;124m'\u001b[39m\u001b[38;5;124m신청단계\u001b[39m\u001b[38;5;124m'\u001b[39m]\u001b[38;5;241m.\u001b[39misin(except_list)]\n\u001b[0;32m     16\u001b[0m date_str \u001b[38;5;241m=\u001b[39m file\u001b[38;5;241m.\u001b[39msplit()[\u001b[38;5;241m3\u001b[39m]  \u001b[38;5;66;03m# 예: '0724' 또는 '0624' 추출\u001b[39;00m\n\u001b[0;32m     17\u001b[0m month \u001b[38;5;241m=\u001b[39m date_str[:\u001b[38;5;241m2\u001b[39m]\n",
      "File \u001b[1;32mc:\\Users\\HP\\anaconda3\\Lib\\site-packages\\pandas\\core\\frame.py:3893\u001b[0m, in \u001b[0;36mDataFrame.__getitem__\u001b[1;34m(self, key)\u001b[0m\n\u001b[0;32m   3891\u001b[0m \u001b[38;5;28;01mif\u001b[39;00m \u001b[38;5;28mself\u001b[39m\u001b[38;5;241m.\u001b[39mcolumns\u001b[38;5;241m.\u001b[39mnlevels \u001b[38;5;241m>\u001b[39m \u001b[38;5;241m1\u001b[39m:\n\u001b[0;32m   3892\u001b[0m     \u001b[38;5;28;01mreturn\u001b[39;00m \u001b[38;5;28mself\u001b[39m\u001b[38;5;241m.\u001b[39m_getitem_multilevel(key)\n\u001b[1;32m-> 3893\u001b[0m indexer \u001b[38;5;241m=\u001b[39m \u001b[38;5;28mself\u001b[39m\u001b[38;5;241m.\u001b[39mcolumns\u001b[38;5;241m.\u001b[39mget_loc(key)\n\u001b[0;32m   3894\u001b[0m \u001b[38;5;28;01mif\u001b[39;00m is_integer(indexer):\n\u001b[0;32m   3895\u001b[0m     indexer \u001b[38;5;241m=\u001b[39m [indexer]\n",
      "File \u001b[1;32mc:\\Users\\HP\\anaconda3\\Lib\\site-packages\\pandas\\core\\indexes\\base.py:3798\u001b[0m, in \u001b[0;36mIndex.get_loc\u001b[1;34m(self, key)\u001b[0m\n\u001b[0;32m   3793\u001b[0m     \u001b[38;5;28;01mif\u001b[39;00m \u001b[38;5;28misinstance\u001b[39m(casted_key, \u001b[38;5;28mslice\u001b[39m) \u001b[38;5;129;01mor\u001b[39;00m (\n\u001b[0;32m   3794\u001b[0m         \u001b[38;5;28misinstance\u001b[39m(casted_key, abc\u001b[38;5;241m.\u001b[39mIterable)\n\u001b[0;32m   3795\u001b[0m         \u001b[38;5;129;01mand\u001b[39;00m \u001b[38;5;28many\u001b[39m(\u001b[38;5;28misinstance\u001b[39m(x, \u001b[38;5;28mslice\u001b[39m) \u001b[38;5;28;01mfor\u001b[39;00m x \u001b[38;5;129;01min\u001b[39;00m casted_key)\n\u001b[0;32m   3796\u001b[0m     ):\n\u001b[0;32m   3797\u001b[0m         \u001b[38;5;28;01mraise\u001b[39;00m InvalidIndexError(key)\n\u001b[1;32m-> 3798\u001b[0m     \u001b[38;5;28;01mraise\u001b[39;00m \u001b[38;5;167;01mKeyError\u001b[39;00m(key) \u001b[38;5;28;01mfrom\u001b[39;00m \u001b[38;5;21;01merr\u001b[39;00m\n\u001b[0;32m   3799\u001b[0m \u001b[38;5;28;01mexcept\u001b[39;00m \u001b[38;5;167;01mTypeError\u001b[39;00m:\n\u001b[0;32m   3800\u001b[0m     \u001b[38;5;66;03m# If we have a listlike key, _check_indexing_error will raise\u001b[39;00m\n\u001b[0;32m   3801\u001b[0m     \u001b[38;5;66;03m#  InvalidIndexError. Otherwise we fall through and re-raise\u001b[39;00m\n\u001b[0;32m   3802\u001b[0m     \u001b[38;5;66;03m#  the TypeError.\u001b[39;00m\n\u001b[0;32m   3803\u001b[0m     \u001b[38;5;28mself\u001b[39m\u001b[38;5;241m.\u001b[39m_check_indexing_error(key)\n",
      "\u001b[1;31mKeyError\u001b[0m: '신청단계'"
     ]
    }
   ],
   "source": [
    "folder_path = 'C:/Users/HP/Downloads/OneDrive_2025-07-31 (3)'\n",
    "except_list = ['승인불가', '신청포기', '지원취소']\n",
    "\n",
    "\n",
    "날짜_개수_리스트 = []\n",
    "\n",
    "for file in os.listdir(folder_path):\n",
    "    if file.endswith('.xlsx'):\n",
    "        df = pd.read_excel(os.path.join(folder_path, file))\n",
    "        print(df.columns)\n",
    "        df = df[~df['신청단계'].isin(except_list)]\n",
    "\n",
    "    elif file.endswith('.xls'):\n",
    "        df = pd.read_excel(os.path.join(folder_path, file), header=2)\n",
    "        print(df.columns)\n",
    "        df = df[~df['신청단계'].isin(except_list)]\n",
    "        \n",
    "    date_str = file.split()[3]  # 예: '0724' 또는 '0624' 추출\n",
    "    month = date_str[:2]\n",
    "    day = date_str[2:]\n",
    "    기준날짜 = f\"2025-{month}-{day}\"\n",
    "    기준날짜 = pd.to_datetime(기준날짜).strftime('%Y-%m-%d')  # 날짜 포맷 보정\n",
    "    df = df[df['신청일자'] == 기준날짜]\n",
    "    \n",
    "    개수 = df.shape[0]\n",
    "    날짜_개수_리스트.append({'날짜': 기준날짜, '개수': 개수})\n",
    "        \n",
    "\n",
    "# 리스트를 데이터프레임으로 변환\n",
    "result_df = pd.DataFrame(날짜_개수_리스트)\n",
    "\n",
    "# 엑셀로 저장\n",
    "result_df.to_excel('신청일자별_개수_집계.xlsx', index=False)\n",
    "\n"
   ]
  },
  {
   "cell_type": "code",
   "execution_count": null,
   "id": "a73ad59b",
   "metadata": {},
   "outputs": [],
   "source": [
    "result = pd.read_excel('신청일자별_개수_집계.xlsx')\n",
    "\n",
    "folder_path = 'C:/Users/HP/Downloads/11'\n",
    "except_list = ['승인불가', '신청포기', '지원취소']\n",
    "\n",
    "날짜_개수_리스트 = []\n",
    "\n",
    "for file in os.listdir(folder_path):\n",
    "    if file.endswith('.xlsx'):\n",
    "        df = pd.read_excel(os.path.join(folder_path, file))\n",
    "        df = df[~df['신청단계'].isin(except_list)]\n",
    "\n",
    "    elif file.endswith('.xls'):\n",
    "        df = pd.read_excel(os.path.join(folder_path, file), header=2)\n",
    "        df = df[~df['신청단계'].isin(except_list)]\n",
    "        \n",
    "    # '취소(포기)\\n일자'가 기준날짜인 경우\n",
    "    date_str = file.split()[1]  # 예: '0724' 또는 '0624' 추출\n",
    "    month = date_str[:2]\n",
    "    day = date_str[2:]\n",
    "    기준날짜 = f\"2025-{month}-{day}\"\n",
    "    기준날짜 = pd.to_datetime(기준날짜).strftime('%Y-%m-%d')  # 날짜 포맷 보정\n",
    "    df = df[df['신청일자'] == 기준날짜]\n",
    "    \n",
    "    개수 = df.shape[0]\n",
    "    날짜_개수_리스트.append({'날짜': 기준날짜, '개수': 개수})\n",
    "\n",
    "# 새로 구한 날짜별 개수 데이터프레임 생성\n",
    "new_df = pd.DataFrame(날짜_개수_리스트)\n",
    "\n",
    "# 기존 result와 합치기 (중복 날짜는 모두 남김)\n",
    "result = pd.concat([result, new_df], ignore_index=True)\n",
    "result.to_excel('신청일자별_개수_집계.xlsx', index=False)"
   ]
  },
  {
   "cell_type": "code",
   "execution_count": null,
   "id": "53def975",
   "metadata": {},
   "outputs": [],
   "source": [
    "\n",
    "folder_path = 'C:/Users/HP/Downloads/11'\n",
    "except_list = ['승인불가', '신청포기', '지원취소']\n",
    "\n",
    "날짜_개수_리스트 = []\n",
    "\n",
    "for file in os.listdir(folder_path):\n",
    "    if file.endswith('.xlsx'):\n",
    "        df = pd.read_excel(os.path.join(folder_path, file))\n",
    "        df = df[~df['신청단계'].isin(except_list)]\n",
    "\n",
    "    elif file.endswith('.xls'):\n",
    "        df = pd.read_excel(os.path.join(folder_path, file), header=2)\n",
    "        df = df[~df['신청단계'].isin(except_list)]\n",
    "        \n",
    "    # '취소(포기)\\n일자'가 기준날짜인 경우\n",
    "    date_str = file.split()[1]  # 예: '0724' 또는 '0624' 추출\n",
    "    month = date_str[:2]\n",
    "    day = date_str[2:]\n",
    "    기준날짜 = f\"2025-{month}-{day}\"\n",
    "    기준날짜 = pd.to_datetime(기준날짜).strftime('%Y-%m-%d')  # 날짜 포맷 보정\n",
    "    df = df[df['신청일자'] == 기준날짜]\n",
    "    \n",
    "    개수 = df.shape[0]\n",
    "    날짜_개수_리스트.append({'날짜': 기준날짜, '개수': 개수})\n",
    "\n",
    "# 새로 구한 날짜별 개수 데이터프레임 생성\n",
    "new_df = pd.DataFrame(날짜_개수_리스트)\n",
    "\n",
    "# 기존 result와 합치기 (중복 날짜는 모두 남김)\n",
    "result = pd.concat([result, new_df], ignore_index=True)\n",
    "result.to_excel('신청일자별_개수_집계.xlsx', index=False)"
   ]
  },
  {
   "cell_type": "code",
   "execution_count": 50,
   "id": "8d11a40f",
   "metadata": {},
   "outputs": [],
   "source": [
    "result = pd.read_excel('신청일자별_개수_집계.xlsx')\n",
    "folder_path = 'C:/Users/HP/Downloads/33'\n",
    "except_list = ['승인불가', '신청포기', '지원취소']\n",
    "\n",
    "날짜_개수_리스트 = []\n",
    "\n",
    "for file in os.listdir(folder_path):\n",
    "    if file.endswith('.xlsx'):\n",
    "        df = pd.read_excel(os.path.join(folder_path, file))\n",
    "        df = df[~df['신청단계'].isin(except_list)]\n",
    "\n",
    "    elif file.endswith('.xls'):\n",
    "        df = pd.read_excel(os.path.join(folder_path, file), header=2)\n",
    "        df = df[~df['신청단계'].isin(except_list)]\n",
    "        \n",
    "    # '취소(포기)\\n일자'가 기준날짜인 경우\n",
    "    date_str = file.split()[1]  # 예: '0724' 또는 '0624' 추출\n",
    "    month = date_str[:2]\n",
    "    day = date_str[2:]\n",
    "    기준날짜 = f\"2025-{month}-{day}\"\n",
    "    기준날짜 = pd.to_datetime(기준날짜).strftime('%Y-%m-%d')  # 날짜 포맷 보정\n",
    "    df = df[df['신청일자'] == 기준날짜]\n",
    "    \n",
    "    개수 = df.shape[0]\n",
    "    날짜_개수_리스트.append({'날짜': 기준날짜, '개수': 개수})\n",
    "\n",
    "# 새로 구한 날짜별 개수 데이터프레임 생성\n",
    "new_df = pd.DataFrame(날짜_개수_리스트)\n",
    "\n",
    "# 기존 result와 합치기 (중복 날짜는 모두 남김)\n",
    "result = pd.concat([result, new_df], ignore_index=True)\n",
    "result.to_excel('신청일자별_개수_집계.xlsx', index=False)"
   ]
  },
  {
   "cell_type": "code",
   "execution_count": 53,
   "id": "ef704741",
   "metadata": {},
   "outputs": [],
   "source": [
    "folder_path = 'C:/Users/HP/Downloads/22'\n",
    "except_list = ['승인불가', '신청포기', '지원취소']\n",
    "\n",
    "기준날짜_취소_개수_리스트 = []\n",
    "\n",
    "for file in os.listdir(folder_path):\n",
    "    if file.endswith('.xlsx'):\n",
    "        df = pd.read_excel(os.path.join(folder_path, file))\n",
    "        df = df[df['신청단계'].isin(except_list)]\n",
    "    elif file.endswith('.xls'):\n",
    "        df = pd.read_excel(os.path.join(folder_path, file), header=2)\n",
    "        df = df[df['신청단계'].isin(except_list)]\n",
    "\n",
    "    # '취소(포기)\\n일자'가 기준날짜인 경우\n",
    "    date_str = file.split()[1]  # 예: '0724' 또는 '0624' 추출\n",
    "    month = date_str[:2]\n",
    "    day = date_str[2:]\n",
    "    기준날짜 = f\"2025-{month}-{day}\"\n",
    "    기준날짜 = pd.to_datetime(기준날짜).strftime('%Y-%m-%d')  # 날짜 포맷 보정\n",
    "    df = df[df['취소(포기)\\n일자'] == 기준날짜]\n",
    "\n",
    "    # 각 신청단계별 개수 계산\n",
    "    승인불가_개수 = df[df['신청단계'] == '승인불가'].shape[0]\n",
    "    신청포기_개수 = df[df['신청단계'] == '신청포기'].shape[0]\n",
    "    지원취소_개수 = df[df['신청단계'] == '지원취소'].shape[0]\n",
    "    \n",
    "    # 전체 개수 (세 개의 합계)\n",
    "    전체_개수 = 승인불가_개수 + 신청포기_개수 + 지원취소_개수\n",
    "    \n",
    "    기준날짜_취소_개수_리스트.append({\n",
    "        '날짜': 기준날짜, \n",
    "        '개수': 전체_개수,\n",
    "        '승인불가': 승인불가_개수,\n",
    "        '신청포기': 신청포기_개수,\n",
    "        '지원취소': 지원취소_개수\n",
    "    })\n",
    "\n",
    "new_df = pd.DataFrame(기준날짜_취소_개수_리스트)\n",
    "new_df.to_excel('기준날짜_취소_개수_집계.xlsx', index=False)"
   ]
  },
  {
   "cell_type": "code",
   "execution_count": 54,
   "id": "e6bb90be",
   "metadata": {},
   "outputs": [],
   "source": [
    "df = pd.read_excel('Greet_Subsidy_2Q.xlsx', sheet_name='지급신청', header=3)\n",
    "\n",
    "# 배분일별 개수 집계 및 데이터프레임화\n",
    "배분일_개수 = df['배분일'].value_counts().reset_index()\n",
    "배분일_개수.columns = ['날짜', '개수']\n",
    "\n",
    "# 날짜 오름차순 정렬\n",
    "배분일_개수 = 배분일_개수.sort_values('날짜').reset_index(drop=True)\n",
    "\n",
    "# 엑셀로 저장\n",
    "배분일_개수.to_excel('배분일별_개수_집계.xlsx', index=False)"
   ]
  },
  {
   "cell_type": "code",
   "execution_count": 55,
   "id": "cbeb1c36",
   "metadata": {},
   "outputs": [],
   "source": [
    "df = pd.read_excel('Greet_Subsidy_2Q.xlsx', sheet_name='지급신청', header=3)\n",
    "\n",
    "# 배분일별 개수 집계 및 데이터프레임화\n",
    "배분일_개수 = df['지급\\n신청일'].value_counts().reset_index()\n",
    "배분일_개수.columns = ['날짜', '개수']\n",
    "\n",
    "# 날짜 오름차순 정렬\n",
    "배분일_개수 = 배분일_개수.sort_values('날짜').reset_index(drop=True)\n",
    "\n",
    "# 엑셀로 저장\n",
    "배분일_개수.to_excel('지급일별_개수_집계.xlsx', index=False)"
   ]
  },
  {
   "cell_type": "code",
   "execution_count": 56,
   "id": "f5bb6c11",
   "metadata": {},
   "outputs": [
    {
     "name": "stderr",
     "output_type": "stream",
     "text": [
      "C:\\Users\\Public\\Documents\\ESTsoft\\CreatorTemp\\ipykernel_7948\\3672846104.py:8: SettingWithCopyWarning: \n",
      "A value is trying to be set on a copy of a slice from a DataFrame.\n",
      "Try using .loc[row_indexer,col_indexer] = value instead\n",
      "\n",
      "See the caveats in the documentation: https://pandas.pydata.org/pandas-docs/stable/user_guide/indexing.html#returning-a-view-versus-a-copy\n",
      "  배분일_rn['배분일'] = pd.to_datetime(배분일_rn['배분일'], errors='coerce').dt.strftime('%Y-%m-%d')\n",
      "C:\\Users\\Public\\Documents\\ESTsoft\\CreatorTemp\\ipykernel_7948\\3672846104.py:9: SettingWithCopyWarning: \n",
      "A value is trying to be set on a copy of a slice from a DataFrame.\n",
      "Try using .loc[row_indexer,col_indexer] = value instead\n",
      "\n",
      "See the caveats in the documentation: https://pandas.pydata.org/pandas-docs/stable/user_guide/indexing.html#returning-a-view-versus-a-copy\n",
      "  지급신청일_rn['지급신청일자'] = pd.to_datetime(지급신청일_rn['지급신청일자'], errors='coerce').dt.strftime('%Y-%m-%d')\n"
     ]
    }
   ],
   "source": [
    "df = pd.read_excel('Greet_Subsidy_2Q.xlsx', sheet_name='지급신청', header=3)\n",
    "df_ev = pd.read_excel('EV_Q2.xlsx')\n",
    "\n",
    "배분일_rn = df[['배분일', 'RN']]\n",
    "지급신청일_rn = df_ev[['지급신청일자', '제조수입사\\n관리번호']]\n",
    "\n",
    "# 날짜 컬럼을 datetime으로 변환 후 날짜만 추출\n",
    "배분일_rn['배분일'] = pd.to_datetime(배분일_rn['배분일'], errors='coerce').dt.strftime('%Y-%m-%d')\n",
    "지급신청일_rn['지급신청일자'] = pd.to_datetime(지급신청일_rn['지급신청일자'], errors='coerce').dt.strftime('%Y-%m-%d')\n",
    "\n",
    "# 'RN'과 '제조수입사\\n관리번호'를 기준으로 left join\n",
    "merged_df = 배분일_rn.merge(\n",
    "    지급신청일_rn, \n",
    "    left_on='RN', \n",
    "    right_on='제조수입사\\n관리번호', \n",
    "    how='left'\n",
    ")\n",
    "\n",
    "# 결과 컬럼만 남기기\n",
    "result_df = merged_df[['RN', '배분일', '지급신청일자']]\n",
    "\n",
    "result_df.to_excel('지급_집계.xlsx', index=False)\n"
   ]
  },
  {
   "cell_type": "code",
   "execution_count": 57,
   "id": "b489c85f",
   "metadata": {},
   "outputs": [],
   "source": [
    "df = pd.read_excel('지급_집계.xlsx')\n",
    "\n",
    "# 배분일과 지급신청일자가 다른(미신청) 데이터만 추출\n",
    "미신청_df = df[df['배분일'] != df['지급신청일자']]\n",
    "\n",
    "# '배분일'별 미신청 개수 집계\n",
    "미신청_집계 = 미신청_df['배분일'].value_counts().reset_index()\n",
    "미신청_집계.columns = ['날짜', '미신청']\n",
    "\n",
    "미신청_집계 = 미신청_집계.sort_values('날짜').reset_index(drop=True)\n",
    "미신청_집계.to_excel('미신청_집계.xlsx', index=False)"
   ]
  }
 ],
 "metadata": {
  "kernelspec": {
   "display_name": "base",
   "language": "python",
   "name": "python3"
  },
  "language_info": {
   "codemirror_mode": {
    "name": "ipython",
    "version": 3
   },
   "file_extension": ".py",
   "mimetype": "text/x-python",
   "name": "python",
   "nbconvert_exporter": "python",
   "pygments_lexer": "ipython3",
   "version": "3.11.7"
  }
 },
 "nbformat": 4,
 "nbformat_minor": 5
}
